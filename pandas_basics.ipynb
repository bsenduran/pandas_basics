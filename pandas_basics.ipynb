{
 "cells": [
  {
   "cell_type": "markdown",
   "id": "cee760d7",
   "metadata": {},
   "source": [
    "# Loading data into Pandas"
   ]
  },
  {
   "cell_type": "code",
   "execution_count": null,
   "id": "dd58bf47",
   "metadata": {},
   "outputs": [],
   "source": [
    "import pandas as pd\n",
    "\n",
    "df = pd.read_csv('pokemon_data.csv') #read_csv('pokemon_data.csv', delimiter='\\t') if file is tab seprated"
   ]
  },
  {
   "cell_type": "code",
   "execution_count": null,
   "id": "c9fe96d5",
   "metadata": {},
   "outputs": [],
   "source": [
    "print(df.head(3)) #also tail(3)"
   ]
  },
  {
   "cell_type": "markdown",
   "id": "b713fea4",
   "metadata": {},
   "source": [
    "# Reading data in Pandas"
   ]
  },
  {
   "cell_type": "code",
   "execution_count": null,
   "id": "78a160c5",
   "metadata": {},
   "outputs": [],
   "source": [
    "## Read Headers\n",
    "df.columns\n",
    "\n",
    "## Read each Column\n",
    "df[\"Name\"] #also d.Name - only for single word column name not with space\n",
    "#print(df[\"Name\"][0:5])     print(df[[\"Name\",\"Type 1\", \"HP\"]])\n",
    "\n",
    "## Read Each Row\n",
    "#print(df.iloc[2:4]) #print(df.head(4)) \n",
    "\n",
    "## Read a specific Location (R, C)\n",
    "# print(df.iloc[2,4]) #print(df.iloc[4:6,4:8])\n",
    "\n",
    "print(df.loc[df[\"Type 1\"] == \"Fire\"])"
   ]
  },
  {
   "cell_type": "code",
   "execution_count": null,
   "id": "a53d6632",
   "metadata": {},
   "outputs": [],
   "source": [
    "for index, row in df.iterrows():\n",
    "    print(index, row[\"Name\"])"
   ]
  },
  {
   "cell_type": "markdown",
   "id": "80045d8e",
   "metadata": {},
   "source": [
    "# Sorting/Describing Data"
   ]
  },
  {
   "cell_type": "code",
   "execution_count": null,
   "id": "aafa0c53",
   "metadata": {
    "scrolled": true
   },
   "outputs": [],
   "source": [
    "#df.describe()\n",
    "#df.sort_values('Name', ascending=False)\n",
    "df.sort_values(['Type 1', 'HP'], ascending=[0, 1])"
   ]
  },
  {
   "cell_type": "markdown",
   "id": "e1f45ab7",
   "metadata": {},
   "source": [
    "# Making changes to the data"
   ]
  },
  {
   "cell_type": "code",
   "execution_count": null,
   "id": "a98bed7b",
   "metadata": {},
   "outputs": [],
   "source": [
    "#df['total'] = df['HP']+df['Attack']+df['Defense']+df['Sp. Atk']+df['Sp. Def']+df['Speed']\n",
    "\n",
    "#df = df.drop(columns=['total'])\n",
    "\n",
    "df['Total'] = df.iloc[:,4:10].sum(axis=1)\n",
    "#df.iloc[:,4:10]\n",
    "\n",
    "cols = list(df.columns)\n",
    "\n",
    "df= df[cols[0:4] +  [cols[-1]] + cols[4:12]]\n",
    "\n",
    "#df[['Name', 'Total']]\n",
    "df.head(5)\n"
   ]
  },
  {
   "cell_type": "markdown",
   "id": "6fb3a4a8",
   "metadata": {},
   "source": [
    "# Saving our data (Exporting into Desired Format)"
   ]
  },
  {
   "cell_type": "code",
   "execution_count": null,
   "id": "d6fa4e5d",
   "metadata": {},
   "outputs": [],
   "source": [
    "df.to_csv('modified.csv', index=False)\n",
    "df.to_excel('modified.xlsx', index=False)\n",
    "df.to_csv('modified.txt', index=False, sep=\"\\t\")"
   ]
  },
  {
   "cell_type": "markdown",
   "id": "d6007ed0",
   "metadata": {},
   "source": [
    "# Filtering Data"
   ]
  },
  {
   "cell_type": "code",
   "execution_count": null,
   "id": "f2c8b825",
   "metadata": {},
   "outputs": [],
   "source": [
    "new_df = df.loc[(df['Type 1'] == \"Grass\") & (df[\"Type 2\"]==\"Poison\") & (df[\"HP\"] > 70)]\n",
    "\n",
    "new_df2 = new_df.reset_index() #return new dataframe with backuping the old index\n",
    "new_df2\n",
    "\n",
    "#new_df.reset_index(drop=True, inplace=True) #change the new_df itself and will not backup"
   ]
  },
  {
   "cell_type": "code",
   "execution_count": null,
   "id": "760a723c",
   "metadata": {},
   "outputs": [],
   "source": [
    "df.loc[~df[\"Name\"].str.contains(\"Mega\")] #Name NOT containing Mega. Note not ! but ~"
   ]
  },
  {
   "cell_type": "code",
   "execution_count": null,
   "id": "f7b82b77",
   "metadata": {},
   "outputs": [],
   "source": [
    "import re #regular expression import\n",
    "df.loc[df[\"Type 1\"].str.contains(\"fire|grass\", flags=re.I, regex=True)] #re.I is ignore case"
   ]
  },
  {
   "cell_type": "code",
   "execution_count": null,
   "id": "298c0f68",
   "metadata": {},
   "outputs": [],
   "source": [
    "df.loc[df[\"Name\"].str.contains(\"^pi*\", regex=True, flags=re.I)]"
   ]
  },
  {
   "cell_type": "markdown",
   "id": "efe5f954",
   "metadata": {},
   "source": [
    "# Conditional Changes"
   ]
  },
  {
   "cell_type": "code",
   "execution_count": null,
   "id": "58927ac0",
   "metadata": {},
   "outputs": [],
   "source": [
    "df.loc[df[\"Type 1\"] == \"Fire\", \"Type 1\"] = \"Flamer\"\n",
    "df"
   ]
  },
  {
   "cell_type": "code",
   "execution_count": null,
   "id": "68413fa8",
   "metadata": {},
   "outputs": [],
   "source": [
    "df.loc[df[\"Type 1\"] == \"Flamer\", \"Legendary\"] = True\n",
    "df"
   ]
  },
  {
   "cell_type": "code",
   "execution_count": null,
   "id": "fb169f51",
   "metadata": {},
   "outputs": [],
   "source": [
    "df.loc[df[\"Total\"] > 500, [\"Generation\", \"Legendary\"]] = [\"Test 1\", \"Test 2\"]\n",
    "df"
   ]
  },
  {
   "cell_type": "markdown",
   "id": "25ed0839",
   "metadata": {},
   "source": [
    "# Aggregate Statistics (Groupby)"
   ]
  },
  {
   "cell_type": "code",
   "execution_count": null,
   "id": "844c64a6",
   "metadata": {},
   "outputs": [],
   "source": [
    "df = pd.read_csv(\"modified.csv\")"
   ]
  },
  {
   "cell_type": "code",
   "execution_count": null,
   "id": "616374b1",
   "metadata": {},
   "outputs": [],
   "source": [
    "df.groupby(\"Type 1\").mean().sort_values(\"Speed\", ascending=False)"
   ]
  },
  {
   "cell_type": "code",
   "execution_count": null,
   "id": "8f186632",
   "metadata": {},
   "outputs": [],
   "source": [
    "#df['count'] = 1\n",
    "#df.groupby(\"Type 1\").count())['count']\n",
    "\n",
    "df.groupby([\"Type 1\", \"Type 2\"]).count()['#'].head(20)\n"
   ]
  },
  {
   "cell_type": "markdown",
   "id": "289f0bc0",
   "metadata": {},
   "source": [
    "# Working with large amount of data"
   ]
  },
  {
   "cell_type": "code",
   "execution_count": null,
   "id": "5bcfd752",
   "metadata": {},
   "outputs": [],
   "source": [
    "for df in pd.read_csv(\"modified.csv\", chunksize=5):\n",
    "    print(\"Data chunk\")\n",
    "    print(df)"
   ]
  },
  {
   "cell_type": "code",
   "execution_count": null,
   "id": "170694cf",
   "metadata": {},
   "outputs": [],
   "source": [
    "new_df = pd.DataFrame(columns=df.columns)\n",
    "for df in pd.read_csv(\"modified.csv\", chunksize=5):\n",
    "    results = df.groupby(\"Type 1\").count()\n",
    "    new_df = pd.concat([new_df, results])\n",
    "new_df"
   ]
  }
 ],
 "metadata": {
  "kernelspec": {
   "display_name": "Python 3",
   "language": "python",
   "name": "python3"
  },
  "language_info": {
   "codemirror_mode": {
    "name": "ipython",
    "version": 3
   },
   "file_extension": ".py",
   "mimetype": "text/x-python",
   "name": "python",
   "nbconvert_exporter": "python",
   "pygments_lexer": "ipython3",
   "version": "3.8.5"
  }
 },
 "nbformat": 4,
 "nbformat_minor": 5
}
